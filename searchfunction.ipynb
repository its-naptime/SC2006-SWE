{
 "cells": [
  {
   "cell_type": "code",
   "execution_count": 7,
   "id": "85b2b1a0",
   "metadata": {},
   "outputs": [
    {
     "name": "stdout",
     "output_type": "stream",
     "text": [
      "Enter the neighborhood (e.g., 'BEDOK STH AVE 1'): yishun\n",
      "      blk_no          street  year_completed  total_dwelling_units  \\\n",
      "123      101    YISHUN AVE 5            1977                   107   \n",
      "128     101A    YISHUN AVE 5            1984                     0   \n",
      "132     101B    YISHUN AVE 5            1984                     0   \n",
      "135     101C    YISHUN AVE 5            1984                     0   \n",
      "205      103  YISHUN RING RD            1984                    64   \n",
      "...      ...             ...             ...                   ...   \n",
      "12585    930   YISHUN CTRL 1            1991                    46   \n",
      "12589    931   YISHUN CTRL 1            1991                    41   \n",
      "12594    932   YISHUN CTRL 1            1991                    66   \n",
      "12604    934   YISHUN CTRL 1            1990                     0   \n",
      "12607    935   YISHUN CTRL 1            1991                    99   \n",
      "\n",
      "      multistorey_carpark  \n",
      "123                     N  \n",
      "128                     N  \n",
      "132                     N  \n",
      "135                     N  \n",
      "205                     N  \n",
      "...                   ...  \n",
      "12585                   N  \n",
      "12589                   N  \n",
      "12594                   N  \n",
      "12604                   N  \n",
      "12607                   N  \n",
      "\n",
      "[766 rows x 5 columns]\n"
     ]
    }
   ],
   "source": [
    "import pandas as pd\n",
    "hdb_data = pd.read_csv(\"HDBPropertyInformation.csv\")\n",
    "\n",
    "def search_hdb_properties(neighborhood):\n",
    "    # Filter the dataset by street name (neighborhood)\n",
    "    filtered_data = hdb_data[hdb_data['street'].str.contains(neighborhood, case=False, na=False)]\n",
    "    \n",
    "    # Check if there are results\n",
    "    if filtered_data.empty:\n",
    "        return f\"No HDB properties found in neighborhood: {neighborhood}\"\n",
    "    \n",
    "    # Return the filtered results\n",
    "    return filtered_data[['blk_no', 'street', 'year_completed', 'total_dwelling_units', 'multistorey_carpark']]\n",
    "\n",
    "# Example usage:\n",
    "neighborhood = input(\"Enter the neighborhood (e.g., 'BEDOK STH AVE 1'): \")\n",
    "results = search_hdb_properties(neighborhood)\n",
    "print(results)"
   ]
  },
  {
   "cell_type": "code",
   "execution_count": 9,
   "id": "ed8aaad2",
   "metadata": {},
   "outputs": [
    {
     "name": "stdout",
     "output_type": "stream",
     "text": [
      "Enter the postal code or neighborhood: 650000\n",
      "     blk_no              street  year_completed  total_dwelling_units\n",
      "0         1            BEACH RD            1970                   142\n",
      "1         1     BEDOK STH AVE 1            1975                   206\n",
      "2         1       CANTONMENT RD            2010                     0\n",
      "3         1        CHAI CHEE RD            1982                   102\n",
      "4         1   CHANGI VILLAGE RD            1975                    55\n",
      "...     ...                 ...             ...                   ...\n",
      "6226      4  TELOK BLANGAH CRES            1973                   231\n",
      "6227      4      TG PAGAR PLAZA            1976                   199\n",
      "6228      4           TOH YI DR            1988                   132\n",
      "6229      4   UPP ALJUNIED LANE            1968                   101\n",
      "6230      4     WOODLANDS ST 12            2017                     0\n",
      "\n",
      "[121 rows x 4 columns]\n"
     ]
    }
   ],
   "source": [
    "\n",
    "# Simulated data for postal codes (since they're not in the original dataset)\n",
    "# Assuming a mapping of postal code prefixes to block numbers for simplicity\n",
    "postal_code_mapping = {\n",
    "    \"65\": [\"1\", \"2\", \"3\", \"4\"],  # Blocks that start with postal code prefix '65'\n",
    "    # Add more mappings here as needed\n",
    "}\n",
    "\n",
    "def search_hdb_properties(query):\n",
    "    # Check if the query is a postal code (assuming postal codes are numeric)\n",
    "    if query.isdigit() and len(query) == 6:\n",
    "        postal_prefix = query[:2]  # Extract the first two digits of the postal code\n",
    "        if postal_prefix in postal_code_mapping:\n",
    "            # Get blocks associated with the postal code prefix\n",
    "            filtered_data = hdb_data[hdb_data['blk_no'].isin(postal_code_mapping[postal_prefix])]\n",
    "            if filtered_data.empty:\n",
    "                return f\"No HDB properties found for postal code: {query}\"\n",
    "        else:\n",
    "            return f\"No HDB properties found with postal code starting with: {postal_prefix}\"\n",
    "    else:\n",
    "        # Otherwise, treat it as a neighborhood search\n",
    "        filtered_data = hdb_data[hdb_data['street'].str.contains(query, case=False, na=False)]\n",
    "        if filtered_data.empty:\n",
    "            return f\"No HDB properties found in neighborhood: {query}\"\n",
    "    \n",
    "    # Return filtered results with relevant columns\n",
    "    return filtered_data[['blk_no', 'street', 'year_completed', 'total_dwelling_units']]\n",
    "\n",
    "# Example usage:\n",
    "query = input(\"Enter the postal code or neighborhood: \")\n",
    "results = search_hdb_properties(query)\n",
    "print(results)\n"
   ]
  },
  {
   "cell_type": "code",
   "execution_count": null,
   "id": "aff31254",
   "metadata": {},
   "outputs": [],
   "source": []
  }
 ],
 "metadata": {
  "kernelspec": {
   "display_name": "Python 3 (ipykernel)",
   "language": "python",
   "name": "python3"
  },
  "language_info": {
   "codemirror_mode": {
    "name": "ipython",
    "version": 3
   },
   "file_extension": ".py",
   "mimetype": "text/x-python",
   "name": "python",
   "nbconvert_exporter": "python",
   "pygments_lexer": "ipython3",
   "version": "3.11.4"
  }
 },
 "nbformat": 4,
 "nbformat_minor": 5
}
